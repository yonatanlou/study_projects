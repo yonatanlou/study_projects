{
  "nbformat": 4,
  "nbformat_minor": 0,
  "metadata": {
    "colab": {
      "name": "Lab2.ipynb",
      "provenance": [],
      "collapsed_sections": [
        "XDjOARr-og4h"
      ],
      "include_colab_link": true
    },
    "kernelspec": {
      "name": "python3",
      "display_name": "Python 3"
    },
    "language_info": {
      "name": "python"
    }
  },
  "cells": [
    {
      "cell_type": "markdown",
      "metadata": {
        "id": "view-in-github",
        "colab_type": "text"
      },
      "source": [
        "<a href=\"https://colab.research.google.com/github/yonatanlou/study_projects/blob/main/Statistics_lab/labs/Lab2.ipynb\" target=\"_parent\"><img src=\"https://colab.research.google.com/assets/colab-badge.svg\" alt=\"Open In Colab\"/></a>"
      ]
    },
    {
      "cell_type": "markdown",
      "metadata": {
        "id": "2sG4Ux9cnLKM"
      },
      "source": [
        "## Assignment 2\n",
        "\n",
        "\n"
      ]
    },
    {
      "cell_type": "markdown",
      "metadata": {
        "id": "Vd6jpZC1ncP3"
      },
      "source": [
        "### Loadin the data from the web"
      ]
    },
    {
      "cell_type": "code",
      "metadata": {
        "id": "3z4H_I0gnsNW"
      },
      "source": [
        "# Import modules \n",
        "import numpy as np\n",
        "import pandas as pd \n",
        "import statsmodels.api as sm \n",
        "import seaborn as sns\n",
        "import matplotlib.pyplot as plt\n",
        "pd.get_option(\"display.max_columns\")\n",
        "pd.set_option('display.float_format', lambda x: '%.3f' % x)"
      ],
      "execution_count": null,
      "outputs": []
    },
    {
      "cell_type": "code",
      "metadata": {
        "id": "2KQcFWm0tW46"
      },
      "source": [
        "url = \"https://raw.githubusercontent.com/yonatanlou/study_projects/main/Statistical_learning_and_data%20analysis/votes_per_ballot_2021.csv\"\n",
        "votes_per_ballot = pd.read_csv(url,  encoding = 'iso-8859-8', index_col='שם ישוב')"
      ],
      "execution_count": null,
      "outputs": []
    },
    {
      "cell_type": "code",
      "metadata": {
        "id": "tXaS7fGFnsAR"
      },
      "source": [
        "data_url = \"https://raw.githubusercontent.com/yonatanlou/study_projects/main/Statistical_learning_and_data%20analysis/votes_per_city_2021.csv\"\n",
        "df_2021_raw = pd.read_csv(data_url, encoding = 'iso-8859-8', index_col='שם ישוב')"
      ],
      "execution_count": null,
      "outputs": []
    },
    {
      "cell_type": "code",
      "metadata": {
        "id": "luoW1g8OnroN"
      },
      "source": [
        "df_2021 = df_2021_raw.drop('סמל ועדה', axis=1) # new column added in Sep 2019\n",
        "METADATA = df_2021[df_2021.columns[:5]]\n",
        "df = df_2021[df_2021.columns[5:-1]] # removing \"metadata\" columns\n"
      ],
      "execution_count": null,
      "outputs": []
    },
    {
      "cell_type": "code",
      "metadata": {
        "colab": {
          "base_uri": "https://localhost:8080/",
          "height": 235
        },
        "id": "gXg1rQ9znKXx",
        "outputId": "4fd64837-b61c-4ab2-f9bd-005c763437de"
      },
      "source": [
        "df_2021.style.set_properties(**{'text-align': 'left'})\n",
        "df_2021.head()"
      ],
      "execution_count": null,
      "outputs": [
        {
          "output_type": "execute_result",
          "data": {
            "text/html": [
              "<div>\n",
              "<style scoped>\n",
              "    .dataframe tbody tr th:only-of-type {\n",
              "        vertical-align: middle;\n",
              "    }\n",
              "\n",
              "    .dataframe tbody tr th {\n",
              "        vertical-align: top;\n",
              "    }\n",
              "\n",
              "    .dataframe thead th {\n",
              "        text-align: right;\n",
              "    }\n",
              "</style>\n",
              "<table border=\"1\" class=\"dataframe\">\n",
              "  <thead>\n",
              "    <tr style=\"text-align: right;\">\n",
              "      <th></th>\n",
              "      <th>סמל ישוב</th>\n",
              "      <th>בזב</th>\n",
              "      <th>מצביעים</th>\n",
              "      <th>פסולים</th>\n",
              "      <th>כשרים</th>\n",
              "      <th>אמת</th>\n",
              "      <th>ב</th>\n",
              "      <th>ג</th>\n",
              "      <th>ודעם</th>\n",
              "      <th>ז</th>\n",
              "      <th>זץ</th>\n",
              "      <th>ט</th>\n",
              "      <th>י</th>\n",
              "      <th>יז</th>\n",
              "      <th>ינ</th>\n",
              "      <th>יף</th>\n",
              "      <th>יק</th>\n",
              "      <th>יר</th>\n",
              "      <th>כ</th>\n",
              "      <th>כך</th>\n",
              "      <th>כן</th>\n",
              "      <th>ל</th>\n",
              "      <th>מחל</th>\n",
              "      <th>מרצ</th>\n",
              "      <th>נ</th>\n",
              "      <th>ני</th>\n",
              "      <th>נר</th>\n",
              "      <th>עם</th>\n",
              "      <th>פה</th>\n",
              "      <th>ףז</th>\n",
              "      <th>צי</th>\n",
              "      <th>צכ</th>\n",
              "      <th>צף</th>\n",
              "      <th>ץ</th>\n",
              "      <th>ק</th>\n",
              "      <th>קי</th>\n",
              "      <th>קך</th>\n",
              "      <th>קץ</th>\n",
              "      <th>ר</th>\n",
              "      <th>רנ</th>\n",
              "      <th>רף</th>\n",
              "      <th>רק</th>\n",
              "      <th>שס</th>\n",
              "      <th>ת</th>\n",
              "      <th>Unnamed: 46</th>\n",
              "    </tr>\n",
              "    <tr>\n",
              "      <th>שם ישוב</th>\n",
              "      <th></th>\n",
              "      <th></th>\n",
              "      <th></th>\n",
              "      <th></th>\n",
              "      <th></th>\n",
              "      <th></th>\n",
              "      <th></th>\n",
              "      <th></th>\n",
              "      <th></th>\n",
              "      <th></th>\n",
              "      <th></th>\n",
              "      <th></th>\n",
              "      <th></th>\n",
              "      <th></th>\n",
              "      <th></th>\n",
              "      <th></th>\n",
              "      <th></th>\n",
              "      <th></th>\n",
              "      <th></th>\n",
              "      <th></th>\n",
              "      <th></th>\n",
              "      <th></th>\n",
              "      <th></th>\n",
              "      <th></th>\n",
              "      <th></th>\n",
              "      <th></th>\n",
              "      <th></th>\n",
              "      <th></th>\n",
              "      <th></th>\n",
              "      <th></th>\n",
              "      <th></th>\n",
              "      <th></th>\n",
              "      <th></th>\n",
              "      <th></th>\n",
              "      <th></th>\n",
              "      <th></th>\n",
              "      <th></th>\n",
              "      <th></th>\n",
              "      <th></th>\n",
              "      <th></th>\n",
              "      <th></th>\n",
              "      <th></th>\n",
              "      <th></th>\n",
              "      <th></th>\n",
              "      <th></th>\n",
              "    </tr>\n",
              "  </thead>\n",
              "  <tbody>\n",
              "    <tr>\n",
              "      <th>אבירים</th>\n",
              "      <td>1220</td>\n",
              "      <td>221</td>\n",
              "      <td>151</td>\n",
              "      <td>1</td>\n",
              "      <td>150</td>\n",
              "      <td>47</td>\n",
              "      <td>0</td>\n",
              "      <td>0</td>\n",
              "      <td>3</td>\n",
              "      <td>0</td>\n",
              "      <td>0</td>\n",
              "      <td>2</td>\n",
              "      <td>0</td>\n",
              "      <td>3</td>\n",
              "      <td>0</td>\n",
              "      <td>0</td>\n",
              "      <td>0</td>\n",
              "      <td>0</td>\n",
              "      <td>0</td>\n",
              "      <td>0</td>\n",
              "      <td>16</td>\n",
              "      <td>2</td>\n",
              "      <td>5</td>\n",
              "      <td>31</td>\n",
              "      <td>0</td>\n",
              "      <td>0</td>\n",
              "      <td>0</td>\n",
              "      <td>0</td>\n",
              "      <td>27</td>\n",
              "      <td>0</td>\n",
              "      <td>0</td>\n",
              "      <td>0</td>\n",
              "      <td>0</td>\n",
              "      <td>0</td>\n",
              "      <td>0</td>\n",
              "      <td>0</td>\n",
              "      <td>0</td>\n",
              "      <td>0</td>\n",
              "      <td>5</td>\n",
              "      <td>0</td>\n",
              "      <td>0</td>\n",
              "      <td>0</td>\n",
              "      <td>1</td>\n",
              "      <td>8</td>\n",
              "      <td>NaN</td>\n",
              "    </tr>\n",
              "    <tr>\n",
              "      <th>אדירים</th>\n",
              "      <td>113</td>\n",
              "      <td>234</td>\n",
              "      <td>180</td>\n",
              "      <td>0</td>\n",
              "      <td>180</td>\n",
              "      <td>1</td>\n",
              "      <td>7</td>\n",
              "      <td>4</td>\n",
              "      <td>0</td>\n",
              "      <td>0</td>\n",
              "      <td>0</td>\n",
              "      <td>9</td>\n",
              "      <td>0</td>\n",
              "      <td>1</td>\n",
              "      <td>0</td>\n",
              "      <td>0</td>\n",
              "      <td>0</td>\n",
              "      <td>0</td>\n",
              "      <td>0</td>\n",
              "      <td>0</td>\n",
              "      <td>3</td>\n",
              "      <td>0</td>\n",
              "      <td>84</td>\n",
              "      <td>0</td>\n",
              "      <td>0</td>\n",
              "      <td>0</td>\n",
              "      <td>0</td>\n",
              "      <td>0</td>\n",
              "      <td>2</td>\n",
              "      <td>0</td>\n",
              "      <td>0</td>\n",
              "      <td>0</td>\n",
              "      <td>0</td>\n",
              "      <td>0</td>\n",
              "      <td>0</td>\n",
              "      <td>0</td>\n",
              "      <td>0</td>\n",
              "      <td>0</td>\n",
              "      <td>2</td>\n",
              "      <td>0</td>\n",
              "      <td>0</td>\n",
              "      <td>0</td>\n",
              "      <td>61</td>\n",
              "      <td>6</td>\n",
              "      <td>NaN</td>\n",
              "    </tr>\n",
              "    <tr>\n",
              "      <th>אושה</th>\n",
              "      <td>278</td>\n",
              "      <td>382</td>\n",
              "      <td>276</td>\n",
              "      <td>0</td>\n",
              "      <td>276</td>\n",
              "      <td>72</td>\n",
              "      <td>7</td>\n",
              "      <td>0</td>\n",
              "      <td>3</td>\n",
              "      <td>0</td>\n",
              "      <td>0</td>\n",
              "      <td>0</td>\n",
              "      <td>0</td>\n",
              "      <td>2</td>\n",
              "      <td>0</td>\n",
              "      <td>0</td>\n",
              "      <td>1</td>\n",
              "      <td>0</td>\n",
              "      <td>0</td>\n",
              "      <td>0</td>\n",
              "      <td>37</td>\n",
              "      <td>8</td>\n",
              "      <td>24</td>\n",
              "      <td>20</td>\n",
              "      <td>0</td>\n",
              "      <td>0</td>\n",
              "      <td>0</td>\n",
              "      <td>0</td>\n",
              "      <td>86</td>\n",
              "      <td>0</td>\n",
              "      <td>0</td>\n",
              "      <td>0</td>\n",
              "      <td>0</td>\n",
              "      <td>0</td>\n",
              "      <td>0</td>\n",
              "      <td>0</td>\n",
              "      <td>0</td>\n",
              "      <td>0</td>\n",
              "      <td>1</td>\n",
              "      <td>0</td>\n",
              "      <td>0</td>\n",
              "      <td>0</td>\n",
              "      <td>0</td>\n",
              "      <td>15</td>\n",
              "      <td>NaN</td>\n",
              "    </tr>\n",
              "    <tr>\n",
              "      <th>אחווה</th>\n",
              "      <td>1157</td>\n",
              "      <td>183</td>\n",
              "      <td>145</td>\n",
              "      <td>0</td>\n",
              "      <td>145</td>\n",
              "      <td>14</td>\n",
              "      <td>4</td>\n",
              "      <td>0</td>\n",
              "      <td>0</td>\n",
              "      <td>0</td>\n",
              "      <td>0</td>\n",
              "      <td>4</td>\n",
              "      <td>0</td>\n",
              "      <td>0</td>\n",
              "      <td>0</td>\n",
              "      <td>0</td>\n",
              "      <td>0</td>\n",
              "      <td>0</td>\n",
              "      <td>0</td>\n",
              "      <td>0</td>\n",
              "      <td>36</td>\n",
              "      <td>3</td>\n",
              "      <td>27</td>\n",
              "      <td>10</td>\n",
              "      <td>0</td>\n",
              "      <td>0</td>\n",
              "      <td>0</td>\n",
              "      <td>0</td>\n",
              "      <td>37</td>\n",
              "      <td>0</td>\n",
              "      <td>0</td>\n",
              "      <td>0</td>\n",
              "      <td>0</td>\n",
              "      <td>0</td>\n",
              "      <td>0</td>\n",
              "      <td>0</td>\n",
              "      <td>0</td>\n",
              "      <td>0</td>\n",
              "      <td>0</td>\n",
              "      <td>0</td>\n",
              "      <td>0</td>\n",
              "      <td>0</td>\n",
              "      <td>2</td>\n",
              "      <td>8</td>\n",
              "      <td>NaN</td>\n",
              "    </tr>\n",
              "    <tr>\n",
              "      <th>איבים</th>\n",
              "      <td>338</td>\n",
              "      <td>138</td>\n",
              "      <td>40</td>\n",
              "      <td>0</td>\n",
              "      <td>40</td>\n",
              "      <td>0</td>\n",
              "      <td>4</td>\n",
              "      <td>0</td>\n",
              "      <td>0</td>\n",
              "      <td>0</td>\n",
              "      <td>1</td>\n",
              "      <td>10</td>\n",
              "      <td>0</td>\n",
              "      <td>0</td>\n",
              "      <td>0</td>\n",
              "      <td>0</td>\n",
              "      <td>0</td>\n",
              "      <td>0</td>\n",
              "      <td>0</td>\n",
              "      <td>0</td>\n",
              "      <td>5</td>\n",
              "      <td>0</td>\n",
              "      <td>17</td>\n",
              "      <td>0</td>\n",
              "      <td>0</td>\n",
              "      <td>0</td>\n",
              "      <td>1</td>\n",
              "      <td>0</td>\n",
              "      <td>0</td>\n",
              "      <td>0</td>\n",
              "      <td>0</td>\n",
              "      <td>0</td>\n",
              "      <td>0</td>\n",
              "      <td>0</td>\n",
              "      <td>0</td>\n",
              "      <td>0</td>\n",
              "      <td>1</td>\n",
              "      <td>0</td>\n",
              "      <td>0</td>\n",
              "      <td>0</td>\n",
              "      <td>0</td>\n",
              "      <td>0</td>\n",
              "      <td>1</td>\n",
              "      <td>0</td>\n",
              "      <td>NaN</td>\n",
              "    </tr>\n",
              "  </tbody>\n",
              "</table>\n",
              "</div>"
            ],
            "text/plain": [
              "         סמל ישוב  בזב  מצביעים  פסולים  כשרים  ...  רף  רק  שס   ת  Unnamed: 46\n",
              "שם ישוב                                         ...                             \n",
              "אבירים       1220  221      151       1    150  ...   0   0   1   8          NaN\n",
              "אדירים        113  234      180       0    180  ...   0   0  61   6          NaN\n",
              "אושה          278  382      276       0    276  ...   0   0   0  15          NaN\n",
              "אחווה        1157  183      145       0    145  ...   0   0   2   8          NaN\n",
              "איבים         338  138       40       0     40  ...   0   0   1   0          NaN\n",
              "\n",
              "[5 rows x 45 columns]"
            ]
          },
          "metadata": {},
          "execution_count": 8
        }
      ]
    },
    {
      "cell_type": "markdown",
      "metadata": {
        "id": "XDjOARr-og4h"
      },
      "source": [
        "### Q1"
      ]
    },
    {
      "cell_type": "markdown",
      "metadata": {
        "id": "Y7J82TwLrGJD"
      },
      "source": [
        "We need to find our constant multiplier that will be used to scale the points size based on the 'בזב'. We will want the settelment with the largest value to get point size of 200."
      ]
    },
    {
      "cell_type": "code",
      "metadata": {
        "id": "mf7s6dmd2tv1"
      },
      "source": [
        "parties_dict ={'אמת' : \"עבודה\", 'מרצ' : \"מרצ\",  'ג' : \"יהדות התורה\", 'עם'  : \"רעם\",  'ת'  : \"תקוה חדשה\", 'ודעם'  : \"הרשימה המשותפת\", 'ב'  : \"ימינה\", 'ט'  : \"הציונות הדתית\",\n",
        " 'ל'  : \"ישראל ביתנו\", 'מחל'  : \"הליכוד\",  'פה'  : \"יש עתיד\", 'כן'  : \"כחול לבן\", 'שס'  : \"שס\"}"
      ],
      "execution_count": null,
      "outputs": []
    },
    {
      "cell_type": "code",
      "metadata": {
        "colab": {
          "base_uri": "https://localhost:8080/"
        },
        "id": "EXKdtzhaqok0",
        "outputId": "9fcf3bbe-5b3e-4a67-bd0a-b0853d09f1ce"
      },
      "source": [
        "print(df_2021_raw['בזב'].max())\n",
        "print(df_2021_raw['בזב'].idxmax())"
      ],
      "execution_count": null,
      "outputs": [
        {
          "output_type": "stream",
          "name": "stdout",
          "text": [
            "439193\n",
            "תל אביב  יפו\n"
          ]
        }
      ]
    },
    {
      "cell_type": "code",
      "metadata": {
        "id": "m162znGWzh3F"
      },
      "source": [
        "multiplier = 200/df_2021_raw['בזב'].max()"
      ],
      "execution_count": null,
      "outputs": []
    },
    {
      "cell_type": "markdown",
      "metadata": {
        "id": "pzPuGXiw0jjf"
      },
      "source": [
        "Using Seaborn we will only need the min and max values, together with the 'בזב',to normalize the plot's points sizes"
      ]
    },
    {
      "cell_type": "code",
      "metadata": {
        "id": "fSBmWoabYhTg"
      },
      "source": [
        "def two_parties_scatter(df, party1, party2,size=METADATA['בזב'] * multiplier):\n",
        "    votes_per_city = df.sum(axis=1)\n",
        "    party_share1 = df[party1] / votes_per_city\n",
        "    party_share2 = df[party2] / votes_per_city\n",
        "    fig = plt.gcf()\n",
        "    fig.set_size_inches(15.5, 7.5)\n",
        "    plt.scatter(party_share1, party_share2, s=size)  # Here draw circles with area proportional to city size\n",
        "    plt.xlabel(party1[::-1])\n",
        "    plt.ylabel(party2[::-1])\n",
        "    plt.title('Scatter for two parties ' )\n",
        "    plt.show()\n"
      ],
      "execution_count": null,
      "outputs": []
    },
    {
      "cell_type": "code",
      "metadata": {
        "colab": {
          "base_uri": "https://localhost:8080/",
          "height": 486
        },
        "id": "U0bG_abh012T",
        "outputId": "67fb7a75-6860-4bc7-ab34-03dcd4548b0a"
      },
      "source": [
        "two_parties_scatter(df, 'שס', 'מרצ')"
      ],
      "execution_count": null,
      "outputs": [
        {
          "output_type": "display_data",
          "data": {
            "image/png": "[encoded data removed]",
            "text/plain": [
              "<Figure size 1116x540 with 1 Axes>"
            ]
          },
          "metadata": {
            "needs_background": "light"
          }
        }
      ]
    },
    {
      "cell_type": "markdown",
      "metadata": {
        "id": "VdZ3Q2SraTjw"
      },
      "source": [
        "As expected, for this 2 parties, who are really distanced in terms of political idelogy, the scatter plot recives almost an L shape figure, this means that in most of the cities the did vote them there are no representation of the 2 parties.\n",
        "We can see that the 2 big cities in israel, Jerusalem and Tel Aviv (most likely)are also pretty much side decided. Can you guess which one is which ?"
      ]
    },
    {
      "cell_type": "code",
      "metadata": {
        "id": "iTJBS5p71Pbl",
        "colab": {
          "base_uri": "https://localhost:8080/",
          "height": 486
        },
        "outputId": "5b61e90c-e16e-4663-b942-69b37b2f3039"
      },
      "source": [
        "two_parties_scatter(df, 'כן', 'מחל')"
      ],
      "execution_count": null,
      "outputs": [
        {
          "output_type": "display_data",
          "data": {
            "image/png": "[encoded data removed]",
            "text/plain": [
              "<Figure size 1116x540 with 1 Axes>"
            ]
          },
          "metadata": {
            "needs_background": "light"
          }
        }
      ]
    },
    {
      "cell_type": "markdown",
      "metadata": {
        "id": "8lunPAumTPMP"
      },
      "source": [
        "Here the picture is much more complicated, as expected for the 2 largers parties. We still can spot that in most of the big cities Likud got a bigger share of vote in comparison to Kahol-Lavan."
      ]
    },
    {
      "cell_type": "code",
      "metadata": {
        "colab": {
          "base_uri": "https://localhost:8080/",
          "height": 486
        },
        "id": "aekH4wUKawGN",
        "outputId": "8c55f9d3-77c1-4e68-d3bd-515943083328"
      },
      "source": [
        "two_parties_scatter(df, 'עם', 'ודעם')"
      ],
      "execution_count": null,
      "outputs": [
        {
          "output_type": "display_data",
          "data": {
            "image/png": "[encoded data removed]",
            "text/plain": [
              "<Figure size 1116x540 with 1 Axes>"
            ]
          },
          "metadata": {
            "needs_background": "light"
          }
        }
      ]
    },
    {
      "cell_type": "markdown",
      "metadata": {
        "id": "150t45ulTxDG"
      },
      "source": [
        "This one is interesting. As expected, in most of the cities there are no voters at all, but lets look at the ones that did vote. Firstly we can see that thae share of voters in those places are really hight, plus the 2 together represent almost 100% of the voters in those cities. Let's take a look at the voting trend, it seems like as the share of votes to one party increases the other's decreases, meaning that those cities are pretty much decided. or maybe just misrepresented and voting to their defualt choice between the 2 ?"
      ]
    },
    {
      "cell_type": "markdown",
      "metadata": {
        "id": "NEbBY4lRbWLS"
      },
      "source": [
        "### Q2"
      ]
    },
    {
      "cell_type": "markdown",
      "metadata": {
        "id": "9gha0ucP4sun"
      },
      "source": [
        "We will use the METADATA df together with some calculation to find the 13 parties the actually won a seat in the knesset. We will then, using the METADATA data agian, will calculated for each of the chosen parties, for each settlement (will be called city from now on for simplicty reasons),it's relative voting rate. The spearman correlation will be calculated based on this dataFrame and be plotted usuing the same function from class."
      ]
    },
    {
      "cell_type": "code",
      "metadata": {
        "id": "EauaE9K8cFK9"
      },
      "source": [
        "kosher = METADATA['כשרים'].sum()"
      ],
      "execution_count": null,
      "outputs": []
    },
    {
      "cell_type": "code",
      "metadata": {
        "id": "XREujnUEcJeR"
      },
      "source": [
        "isInKnesset = (df.sum(axis=0)/kosher > 0.035).to_dict()\n",
        "inKnessetParties = [i for i in isInKnesset.keys() if isInKnesset[i] is True]\n",
        "votes_per_city = df.sum(axis=1)"
      ],
      "execution_count": null,
      "outputs": []
    },
    {
      "cell_type": "code",
      "metadata": {
        "id": "-3ez25s3e1FI"
      },
      "source": [
        "knesset_parties = df[inKnessetParties]"
      ],
      "execution_count": null,
      "outputs": []
    },
    {
      "cell_type": "code",
      "metadata": {
        "id": "0spdt72thPj1"
      },
      "source": [
        "kosher_per_city = METADATA['כשרים'].to_numpy()"
      ],
      "execution_count": null,
      "outputs": []
    },
    {
      "cell_type": "code",
      "metadata": {
        "id": "bPjBVftE4gLH"
      },
      "source": [
        "knesset_parties = knesset_parties/ kosher_per_city[:, None]"
      ],
      "execution_count": null,
      "outputs": []
    },
    {
      "cell_type": "markdown",
      "metadata": {
        "id": "BdYN6Zd-6oFq"
      },
      "source": [
        "We were asked to order the correlation matrix, firstly with respect to the parties size and secondly ordering them form left to right (politically)."
      ]
    },
    {
      "cell_type": "code",
      "metadata": {
        "colab": {
          "base_uri": "https://localhost:8080/"
        },
        "id": "uG3vYnmjQqS0",
        "outputId": "8da279f6-aa45-4544-eef9-60bfe162d98a"
      },
      "source": [
        "parties_dict"
      ],
      "execution_count": null,
      "outputs": [
        {
          "output_type": "execute_result",
          "data": {
            "text/plain": [
              "{'אמת': 'עבודה',\n",
              " 'ב': 'ימינה',\n",
              " 'ג': 'יהדות התורה',\n",
              " 'ודעם': 'הרשימה המשותפת',\n",
              " 'ט': 'הציונות הדתית',\n",
              " 'כן': 'כחול לבן',\n",
              " 'ל': 'ישראל ביתנו',\n",
              " 'מחל': 'הליכוד',\n",
              " 'מרצ': 'מרצ',\n",
              " 'עם': 'רעם',\n",
              " 'פה': 'יש עתיד',\n",
              " 'שס': 'שס',\n",
              " 'ת': 'תקוה חדשה'}"
            ]
          },
          "metadata": {},
          "execution_count": 285
        }
      ]
    },
    {
      "cell_type": "code",
      "metadata": {
        "id": "Kc_3oR9Z6l2L"
      },
      "source": [
        "size_order = (df.sum(axis=0)/kosher).sort_values(ascending=False)[:13].keys().to_list()\n",
        "political_order = ['עם', 'ודעם', 'מרצ', 'אמת', 'פה', 'כן', 'ת', 'ל', 'מחל', 'שס', 'ג', 'ב', 'ט']"
      ],
      "execution_count": null,
      "outputs": []
    },
    {
      "cell_type": "code",
      "metadata": {
        "colab": {
          "base_uri": "https://localhost:8080/",
          "height": 452
        },
        "id": "x9MTyJyN2wKb",
        "outputId": "aae61ec0-705c-4df2-d7c4-a1fcb7bc085e"
      },
      "source": [
        "knesset_parties[size_order].corr(method='spearman')"
      ],
      "execution_count": null,
      "outputs": [
        {
          "output_type": "execute_result",
          "data": {
            "text/html": [
              "<div>\n",
              "<style scoped>\n",
              "    .dataframe tbody tr th:only-of-type {\n",
              "        vertical-align: middle;\n",
              "    }\n",
              "\n",
              "    .dataframe tbody tr th {\n",
              "        vertical-align: top;\n",
              "    }\n",
              "\n",
              "    .dataframe thead th {\n",
              "        text-align: right;\n",
              "    }\n",
              "</style>\n",
              "<table border=\"1\" class=\"dataframe\">\n",
              "  <thead>\n",
              "    <tr style=\"text-align: right;\">\n",
              "      <th></th>\n",
              "      <th>מחל</th>\n",
              "      <th>פה</th>\n",
              "      <th>שס</th>\n",
              "      <th>כן</th>\n",
              "      <th>ב</th>\n",
              "      <th>אמת</th>\n",
              "      <th>ג</th>\n",
              "      <th>ל</th>\n",
              "      <th>ט</th>\n",
              "      <th>ודעם</th>\n",
              "      <th>ת</th>\n",
              "      <th>מרצ</th>\n",
              "      <th>עם</th>\n",
              "    </tr>\n",
              "  </thead>\n",
              "  <tbody>\n",
              "    <tr>\n",
              "      <th>מחל</th>\n",
              "      <td>1.000</td>\n",
              "      <td>-0.155</td>\n",
              "      <td>0.651</td>\n",
              "      <td>-0.097</td>\n",
              "      <td>0.529</td>\n",
              "      <td>-0.323</td>\n",
              "      <td>0.393</td>\n",
              "      <td>0.079</td>\n",
              "      <td>0.557</td>\n",
              "      <td>-0.342</td>\n",
              "      <td>0.409</td>\n",
              "      <td>-0.462</td>\n",
              "      <td>-0.165</td>\n",
              "    </tr>\n",
              "    <tr>\n",
              "      <th>פה</th>\n",
              "      <td>-0.155</td>\n",
              "      <td>1.000</td>\n",
              "      <td>-0.419</td>\n",
              "      <td>0.820</td>\n",
              "      <td>-0.115</td>\n",
              "      <td>0.798</td>\n",
              "      <td>-0.296</td>\n",
              "      <td>0.622</td>\n",
              "      <td>-0.372</td>\n",
              "      <td>-0.037</td>\n",
              "      <td>0.448</td>\n",
              "      <td>0.723</td>\n",
              "      <td>-0.315</td>\n",
              "    </tr>\n",
              "    <tr>\n",
              "      <th>שס</th>\n",
              "      <td>0.651</td>\n",
              "      <td>-0.419</td>\n",
              "      <td>1.000</td>\n",
              "      <td>-0.348</td>\n",
              "      <td>0.359</td>\n",
              "      <td>-0.516</td>\n",
              "      <td>0.539</td>\n",
              "      <td>-0.151</td>\n",
              "      <td>0.575</td>\n",
              "      <td>-0.240</td>\n",
              "      <td>0.073</td>\n",
              "      <td>-0.584</td>\n",
              "      <td>-0.008</td>\n",
              "    </tr>\n",
              "    <tr>\n",
              "      <th>כן</th>\n",
              "      <td>-0.097</td>\n",
              "      <td>0.820</td>\n",
              "      <td>-0.348</td>\n",
              "      <td>1.000</td>\n",
              "      <td>-0.031</td>\n",
              "      <td>0.777</td>\n",
              "      <td>-0.292</td>\n",
              "      <td>0.533</td>\n",
              "      <td>-0.294</td>\n",
              "      <td>-0.126</td>\n",
              "      <td>0.452</td>\n",
              "      <td>0.655</td>\n",
              "      <td>-0.368</td>\n",
              "    </tr>\n",
              "    <tr>\n",
              "      <th>ב</th>\n",
              "      <td>0.529</td>\n",
              "      <td>-0.115</td>\n",
              "      <td>0.359</td>\n",
              "      <td>-0.031</td>\n",
              "      <td>1.000</td>\n",
              "      <td>-0.187</td>\n",
              "      <td>0.368</td>\n",
              "      <td>-0.026</td>\n",
              "      <td>0.748</td>\n",
              "      <td>-0.495</td>\n",
              "      <td>0.422</td>\n",
              "      <td>-0.427</td>\n",
              "      <td>-0.399</td>\n",
              "    </tr>\n",
              "    <tr>\n",
              "      <th>אמת</th>\n",
              "      <td>-0.323</td>\n",
              "      <td>0.798</td>\n",
              "      <td>-0.516</td>\n",
              "      <td>0.777</td>\n",
              "      <td>-0.187</td>\n",
              "      <td>1.000</td>\n",
              "      <td>-0.369</td>\n",
              "      <td>0.545</td>\n",
              "      <td>-0.420</td>\n",
              "      <td>0.002</td>\n",
              "      <td>0.292</td>\n",
              "      <td>0.840</td>\n",
              "      <td>-0.352</td>\n",
              "    </tr>\n",
              "    <tr>\n",
              "      <th>ג</th>\n",
              "      <td>0.393</td>\n",
              "      <td>-0.296</td>\n",
              "      <td>0.539</td>\n",
              "      <td>-0.292</td>\n",
              "      <td>0.368</td>\n",
              "      <td>-0.369</td>\n",
              "      <td>1.000</td>\n",
              "      <td>-0.086</td>\n",
              "      <td>0.572</td>\n",
              "      <td>-0.237</td>\n",
              "      <td>0.022</td>\n",
              "      <td>-0.433</td>\n",
              "      <td>-0.052</td>\n",
              "    </tr>\n",
              "    <tr>\n",
              "      <th>ל</th>\n",
              "      <td>0.079</td>\n",
              "      <td>0.622</td>\n",
              "      <td>-0.151</td>\n",
              "      <td>0.533</td>\n",
              "      <td>-0.026</td>\n",
              "      <td>0.545</td>\n",
              "      <td>-0.086</td>\n",
              "      <td>1.000</td>\n",
              "      <td>-0.178</td>\n",
              "      <td>0.046</td>\n",
              "      <td>0.431</td>\n",
              "      <td>0.470</td>\n",
              "      <td>-0.111</td>\n",
              "    </tr>\n",
              "    <tr>\n",
              "      <th>ט</th>\n",
              "      <td>0.557</td>\n",
              "      <td>-0.372</td>\n",
              "      <td>0.575</td>\n",
              "      <td>-0.294</td>\n",
              "      <td>0.748</td>\n",
              "      <td>-0.420</td>\n",
              "      <td>0.572</td>\n",
              "      <td>-0.178</td>\n",
              "      <td>1.000</td>\n",
              "      <td>-0.488</td>\n",
              "      <td>0.139</td>\n",
              "      <td>-0.601</td>\n",
              "      <td>-0.330</td>\n",
              "    </tr>\n",
              "    <tr>\n",
              "      <th>ודעם</th>\n",
              "      <td>-0.342</td>\n",
              "      <td>-0.037</td>\n",
              "      <td>-0.240</td>\n",
              "      <td>-0.126</td>\n",
              "      <td>-0.495</td>\n",
              "      <td>0.002</td>\n",
              "      <td>-0.237</td>\n",
              "      <td>0.046</td>\n",
              "      <td>-0.488</td>\n",
              "      <td>1.000</td>\n",
              "      <td>-0.228</td>\n",
              "      <td>0.253</td>\n",
              "      <td>0.570</td>\n",
              "    </tr>\n",
              "    <tr>\n",
              "      <th>ת</th>\n",
              "      <td>0.409</td>\n",
              "      <td>0.448</td>\n",
              "      <td>0.073</td>\n",
              "      <td>0.452</td>\n",
              "      <td>0.422</td>\n",
              "      <td>0.292</td>\n",
              "      <td>0.022</td>\n",
              "      <td>0.431</td>\n",
              "      <td>0.139</td>\n",
              "      <td>-0.228</td>\n",
              "      <td>1.000</td>\n",
              "      <td>0.099</td>\n",
              "      <td>-0.264</td>\n",
              "    </tr>\n",
              "    <tr>\n",
              "      <th>מרצ</th>\n",
              "      <td>-0.462</td>\n",
              "      <td>0.723</td>\n",
              "      <td>-0.584</td>\n",
              "      <td>0.655</td>\n",
              "      <td>-0.427</td>\n",
              "      <td>0.840</td>\n",
              "      <td>-0.433</td>\n",
              "      <td>0.470</td>\n",
              "      <td>-0.601</td>\n",
              "      <td>0.253</td>\n",
              "      <td>0.099</td>\n",
              "      <td>1.000</td>\n",
              "      <td>-0.118</td>\n",
              "    </tr>\n",
              "    <tr>\n",
              "      <th>עם</th>\n",
              "      <td>-0.165</td>\n",
              "      <td>-0.315</td>\n",
              "      <td>-0.008</td>\n",
              "      <td>-0.368</td>\n",
              "      <td>-0.399</td>\n",
              "      <td>-0.352</td>\n",
              "      <td>-0.052</td>\n",
              "      <td>-0.111</td>\n",
              "      <td>-0.330</td>\n",
              "      <td>0.570</td>\n",
              "      <td>-0.264</td>\n",
              "      <td>-0.118</td>\n",
              "      <td>1.000</td>\n",
              "    </tr>\n",
              "  </tbody>\n",
              "</table>\n",
              "</div>"
            ],
            "text/plain": [
              "        מחל     פה     שס     כן      ב  ...      ט   ודעם      ת    מרצ     עם\n",
              "מחל   1.000 -0.155  0.651 -0.097  0.529  ...  0.557 -0.342  0.409 -0.462 -0.165\n",
              "פה   -0.155  1.000 -0.419  0.820 -0.115  ... -0.372 -0.037  0.448  0.723 -0.315\n",
              "שס    0.651 -0.419  1.000 -0.348  0.359  ...  0.575 -0.240  0.073 -0.584 -0.008\n",
              "כן   -0.097  0.820 -0.348  1.000 -0.031  ... -0.294 -0.126  0.452  0.655 -0.368\n",
              "ב     0.529 -0.115  0.359 -0.031  1.000  ...  0.748 -0.495  0.422 -0.427 -0.399\n",
              "אמת  -0.323  0.798 -0.516  0.777 -0.187  ... -0.420  0.002  0.292  0.840 -0.352\n",
              "ג     0.393 -0.296  0.539 -0.292  0.368  ...  0.572 -0.237  0.022 -0.433 -0.052\n",
              "ל     0.079  0.622 -0.151  0.533 -0.026  ... -0.178  0.046  0.431  0.470 -0.111\n",
              "ט     0.557 -0.372  0.575 -0.294  0.748  ...  1.000 -0.488  0.139 -0.601 -0.330\n",
              "ודעם -0.342 -0.037 -0.240 -0.126 -0.495  ... -0.488  1.000 -0.228  0.253  0.570\n",
              "ת     0.409  0.448  0.073  0.452  0.422  ...  0.139 -0.228  1.000  0.099 -0.264\n",
              "מרצ  -0.462  0.723 -0.584  0.655 -0.427  ... -0.601  0.253  0.099  1.000 -0.118\n",
              "עם   -0.165 -0.315 -0.008 -0.368 -0.399  ... -0.330  0.570 -0.264 -0.118  1.000\n",
              "\n",
              "[13 rows x 13 columns]"
            ]
          },
          "metadata": {},
          "execution_count": 287
        }
      ]
    },
    {
      "cell_type": "code",
      "metadata": {
        "id": "E6peTu5CcQFf"
      },
      "source": [
        "# Display heatmap for a correlation matrix \n",
        "# Input: \n",
        "# corr_mat - matrix of correlations \n",
        "# names - vector with names for each row/column\n",
        "def heatmap_corr(corr_mat, names):\n",
        "    rev_names = [parties_dict[name][::-1] for name in list(names)]\n",
        "    fig, ax = plt.subplots()\n",
        "    fig.set_size_inches(17, 12)\n",
        "    im = ax.imshow(corr_mat, cmap=plt.get_cmap('inferno'))\n",
        "    n = corr_mat.shape[0]  # get number of variables \n",
        "    ax.set_xticks(np.arange(n))\n",
        "    ax.set_yticks(np.arange(n))\n",
        "    ax.set_xticklabels(rev_names, fontsize=12, rotation=45)\n",
        "    ax.set_yticklabels(rev_names, fontsize=12)\n",
        "    ax.set_title(\"Parties pairwise correlations\", fontsize=18)\n",
        "    \n",
        "    # Create colorbar\n",
        "    cbar = ax.figure.colorbar(im, ax=ax) #  **cbar_kw)\n",
        "    cbar.ax.set_ylabel('votes correlation', rotation=-90, va=\"bottom\", fontsize=14)"
      ],
      "execution_count": null,
      "outputs": []
    },
    {
      "cell_type": "code",
      "metadata": {
        "colab": {
          "base_uri": "https://localhost:8080/",
          "height": 788
        },
        "id": "RjraS4ptcSxF",
        "outputId": "d8388af0-0dcd-4453-9b14-b3f688c33910"
      },
      "source": [
        "heatmap_corr(knesset_parties[size_order].corr(method='spearman'), size_order)"
      ],
      "execution_count": null,
      "outputs": [
        {
          "output_type": "display_data",
          "data": {
            "image/png": "[encoded data removed]",
            "text/plain": [
              "<Figure size 1224x864 with 2 Axes>"
            ]
          },
          "metadata": {
            "needs_background": "light"
          }
        }
      ]
    },
    {
      "cell_type": "code",
      "metadata": {
        "colab": {
          "base_uri": "https://localhost:8080/",
          "height": 788
        },
        "id": "kvb2Gpi33aEU",
        "outputId": "35ac805e-4840-427d-8ea5-7af34d489057"
      },
      "source": [
        "heatmap_corr(knesset_parties[political_order].corr(method='spearman'), political_order)"
      ],
      "execution_count": null,
      "outputs": [
        {
          "output_type": "display_data",
          "data": {
            "image/png": "[encoded data removed]",
            "text/plain": [
              "<Figure size 1224x864 with 2 Axes>"
            ]
          },
          "metadata": {
            "needs_background": "light"
          }
        }
      ]
    },
    {
      "cell_type": "markdown",
      "metadata": {
        "id": "r_chwvf8R928"
      },
      "source": [
        "We can see that when ordering the matrix with respect to the parties political ideology it is much easier to interpert the correaltion heatmap, Where the division into left/right parties, based on the correlation, can be clearly seen. In this representation our heatmap can be easily divided into 4 rectangles, 2 two hot spots on the main diagonal represent the political camp - highly correlated parties while the opposite diagonal represnt the correaltion between the parties in the opposite camp, those are mainly negative.\n",
        "There are 2 parties that are excluded from the rest (רעמ,הרשימה המשותפת) those are highly correlated between them and negativly correalted wiht the others. As many of the voters for this two are concetrated in cities where the share of voters to one party is really hight, this outcome is not suprising."
      ]
    },
    {
      "cell_type": "markdown",
      "metadata": {
        "id": "vuzyEbXAIH8b"
      },
      "source": [
        "## Q3"
      ]
    },
    {
      "cell_type": "markdown",
      "metadata": {
        "id": "Odi8GE1wYzxK"
      },
      "source": [
        "We already calculated the distribution of voting by city in the last question so we can use it here as well.\n",
        "Firstly, we will use the voting distribution of each city to compute the predicted outcome dataframe, this will hold the estimation for the real distribution for a party in each city if every eligble voter would have voted in the election. We will achive this by multuplying each of the values (eg. voting share of a specific party i a specific city) by the corresponding number of elgible voters in the city, this will let us estimate how <b>many</b> voters would have voted (It will be fractional number which is impossible but bare with me), We will then sum the number of voters for each party and divide by the number of total eligible voters - Our \"what if\" estimator for the elections."
      ]
    },
    {
      "cell_type": "code",
      "metadata": {
        "colab": {
          "base_uri": "https://localhost:8080/",
          "height": 450
        },
        "id": "QBaPJbxkMkgY",
        "outputId": "ff0d3288-a4de-423a-ca09-1ec44370c62f"
      },
      "source": [
        "real_dist = knesset_parties.copy()\n",
        "real_dist"
      ],
      "execution_count": null,
      "outputs": [
        {
          "output_type": "execute_result",
          "data": {
            "text/html": [
              "<div>\n",
              "<style scoped>\n",
              "    .dataframe tbody tr th:only-of-type {\n",
              "        vertical-align: middle;\n",
              "    }\n",
              "\n",
              "    .dataframe tbody tr th {\n",
              "        vertical-align: top;\n",
              "    }\n",
              "\n",
              "    .dataframe thead th {\n",
              "        text-align: right;\n",
              "    }\n",
              "</style>\n",
              "<table border=\"1\" class=\"dataframe\">\n",
              "  <thead>\n",
              "    <tr style=\"text-align: right;\">\n",
              "      <th></th>\n",
              "      <th>אמת</th>\n",
              "      <th>ב</th>\n",
              "      <th>ג</th>\n",
              "      <th>ודעם</th>\n",
              "      <th>ט</th>\n",
              "      <th>כן</th>\n",
              "      <th>ל</th>\n",
              "      <th>מחל</th>\n",
              "      <th>מרצ</th>\n",
              "      <th>עם</th>\n",
              "      <th>פה</th>\n",
              "      <th>שס</th>\n",
              "      <th>ת</th>\n",
              "    </tr>\n",
              "    <tr>\n",
              "      <th>שם ישוב</th>\n",
              "      <th></th>\n",
              "      <th></th>\n",
              "      <th></th>\n",
              "      <th></th>\n",
              "      <th></th>\n",
              "      <th></th>\n",
              "      <th></th>\n",
              "      <th></th>\n",
              "      <th></th>\n",
              "      <th></th>\n",
              "      <th></th>\n",
              "      <th></th>\n",
              "      <th></th>\n",
              "    </tr>\n",
              "  </thead>\n",
              "  <tbody>\n",
              "    <tr>\n",
              "      <th>אבירים</th>\n",
              "      <td>0.313</td>\n",
              "      <td>0.000</td>\n",
              "      <td>0.000</td>\n",
              "      <td>0.020</td>\n",
              "      <td>0.013</td>\n",
              "      <td>0.107</td>\n",
              "      <td>0.013</td>\n",
              "      <td>0.033</td>\n",
              "      <td>0.207</td>\n",
              "      <td>0.000</td>\n",
              "      <td>0.180</td>\n",
              "      <td>0.007</td>\n",
              "      <td>0.053</td>\n",
              "    </tr>\n",
              "    <tr>\n",
              "      <th>אדירים</th>\n",
              "      <td>0.006</td>\n",
              "      <td>0.039</td>\n",
              "      <td>0.022</td>\n",
              "      <td>0.000</td>\n",
              "      <td>0.050</td>\n",
              "      <td>0.017</td>\n",
              "      <td>0.000</td>\n",
              "      <td>0.467</td>\n",
              "      <td>0.000</td>\n",
              "      <td>0.000</td>\n",
              "      <td>0.011</td>\n",
              "      <td>0.339</td>\n",
              "      <td>0.033</td>\n",
              "    </tr>\n",
              "    <tr>\n",
              "      <th>אושה</th>\n",
              "      <td>0.261</td>\n",
              "      <td>0.025</td>\n",
              "      <td>0.000</td>\n",
              "      <td>0.011</td>\n",
              "      <td>0.000</td>\n",
              "      <td>0.134</td>\n",
              "      <td>0.029</td>\n",
              "      <td>0.087</td>\n",
              "      <td>0.072</td>\n",
              "      <td>0.000</td>\n",
              "      <td>0.312</td>\n",
              "      <td>0.000</td>\n",
              "      <td>0.054</td>\n",
              "    </tr>\n",
              "    <tr>\n",
              "      <th>אחווה</th>\n",
              "      <td>0.097</td>\n",
              "      <td>0.028</td>\n",
              "      <td>0.000</td>\n",
              "      <td>0.000</td>\n",
              "      <td>0.028</td>\n",
              "      <td>0.248</td>\n",
              "      <td>0.021</td>\n",
              "      <td>0.186</td>\n",
              "      <td>0.069</td>\n",
              "      <td>0.000</td>\n",
              "      <td>0.255</td>\n",
              "      <td>0.014</td>\n",
              "      <td>0.055</td>\n",
              "    </tr>\n",
              "    <tr>\n",
              "      <th>איבים</th>\n",
              "      <td>0.000</td>\n",
              "      <td>0.100</td>\n",
              "      <td>0.000</td>\n",
              "      <td>0.000</td>\n",
              "      <td>0.250</td>\n",
              "      <td>0.125</td>\n",
              "      <td>0.000</td>\n",
              "      <td>0.425</td>\n",
              "      <td>0.000</td>\n",
              "      <td>0.000</td>\n",
              "      <td>0.000</td>\n",
              "      <td>0.025</td>\n",
              "      <td>0.000</td>\n",
              "    </tr>\n",
              "    <tr>\n",
              "      <th>...</th>\n",
              "      <td>...</td>\n",
              "      <td>...</td>\n",
              "      <td>...</td>\n",
              "      <td>...</td>\n",
              "      <td>...</td>\n",
              "      <td>...</td>\n",
              "      <td>...</td>\n",
              "      <td>...</td>\n",
              "      <td>...</td>\n",
              "      <td>...</td>\n",
              "      <td>...</td>\n",
              "      <td>...</td>\n",
              "      <td>...</td>\n",
              "    </tr>\n",
              "    <tr>\n",
              "      <th>קורנית</th>\n",
              "      <td>0.181</td>\n",
              "      <td>0.037</td>\n",
              "      <td>0.000</td>\n",
              "      <td>0.002</td>\n",
              "      <td>0.006</td>\n",
              "      <td>0.149</td>\n",
              "      <td>0.020</td>\n",
              "      <td>0.065</td>\n",
              "      <td>0.200</td>\n",
              "      <td>0.000</td>\n",
              "      <td>0.305</td>\n",
              "      <td>0.000</td>\n",
              "      <td>0.031</td>\n",
              "    </tr>\n",
              "    <tr>\n",
              "      <th>שורשים</th>\n",
              "      <td>0.207</td>\n",
              "      <td>0.066</td>\n",
              "      <td>0.000</td>\n",
              "      <td>0.010</td>\n",
              "      <td>0.003</td>\n",
              "      <td>0.131</td>\n",
              "      <td>0.024</td>\n",
              "      <td>0.110</td>\n",
              "      <td>0.072</td>\n",
              "      <td>0.000</td>\n",
              "      <td>0.279</td>\n",
              "      <td>0.000</td>\n",
              "      <td>0.086</td>\n",
              "    </tr>\n",
              "    <tr>\n",
              "      <th>שכניה</th>\n",
              "      <td>0.227</td>\n",
              "      <td>0.038</td>\n",
              "      <td>0.000</td>\n",
              "      <td>0.007</td>\n",
              "      <td>0.009</td>\n",
              "      <td>0.137</td>\n",
              "      <td>0.027</td>\n",
              "      <td>0.031</td>\n",
              "      <td>0.153</td>\n",
              "      <td>0.000</td>\n",
              "      <td>0.272</td>\n",
              "      <td>0.002</td>\n",
              "      <td>0.081</td>\n",
              "    </tr>\n",
              "    <tr>\n",
              "      <th>שער אפרים</th>\n",
              "      <td>0.089</td>\n",
              "      <td>0.079</td>\n",
              "      <td>0.002</td>\n",
              "      <td>0.000</td>\n",
              "      <td>0.030</td>\n",
              "      <td>0.087</td>\n",
              "      <td>0.026</td>\n",
              "      <td>0.331</td>\n",
              "      <td>0.048</td>\n",
              "      <td>0.000</td>\n",
              "      <td>0.184</td>\n",
              "      <td>0.047</td>\n",
              "      <td>0.049</td>\n",
              "    </tr>\n",
              "    <tr>\n",
              "      <th>מעטפות חיצוניות</th>\n",
              "      <td>0.081</td>\n",
              "      <td>0.094</td>\n",
              "      <td>0.033</td>\n",
              "      <td>0.027</td>\n",
              "      <td>0.064</td>\n",
              "      <td>0.063</td>\n",
              "      <td>0.065</td>\n",
              "      <td>0.244</td>\n",
              "      <td>0.048</td>\n",
              "      <td>0.016</td>\n",
              "      <td>0.138</td>\n",
              "      <td>0.057</td>\n",
              "      <td>0.052</td>\n",
              "    </tr>\n",
              "  </tbody>\n",
              "</table>\n",
              "<p>1215 rows × 13 columns</p>\n",
              "</div>"
            ],
            "text/plain": [
              "                  אמת     ב     ג  ודעם     ט  ...   מרצ    עם    פה    שס     ת\n",
              "שם ישוב                                        ...                              \n",
              "אבירים          0.313 0.000 0.000 0.020 0.013  ... 0.207 0.000 0.180 0.007 0.053\n",
              "אדירים          0.006 0.039 0.022 0.000 0.050  ... 0.000 0.000 0.011 0.339 0.033\n",
              "אושה            0.261 0.025 0.000 0.011 0.000  ... 0.072 0.000 0.312 0.000 0.054\n",
              "אחווה           0.097 0.028 0.000 0.000 0.028  ... 0.069 0.000 0.255 0.014 0.055\n",
              "איבים           0.000 0.100 0.000 0.000 0.250  ... 0.000 0.000 0.000 0.025 0.000\n",
              "...               ...   ...   ...   ...   ...  ...   ...   ...   ...   ...   ...\n",
              "קורנית          0.181 0.037 0.000 0.002 0.006  ... 0.200 0.000 0.305 0.000 0.031\n",
              "שורשים          0.207 0.066 0.000 0.010 0.003  ... 0.072 0.000 0.279 0.000 0.086\n",
              "שכניה           0.227 0.038 0.000 0.007 0.009  ... 0.153 0.000 0.272 0.002 0.081\n",
              "שער אפרים       0.089 0.079 0.002 0.000 0.030  ... 0.048 0.000 0.184 0.047 0.049\n",
              "מעטפות חיצוניות 0.081 0.094 0.033 0.027 0.064  ... 0.048 0.016 0.138 0.057 0.052\n",
              "\n",
              "[1215 rows x 13 columns]"
            ]
          },
          "metadata": {},
          "execution_count": 301
        }
      ]
    },
    {
      "cell_type": "code",
      "metadata": {
        "id": "SJCL-KUpVeYQ"
      },
      "source": [
        "predicted_dist = pd.DataFrame(columns=real_dist.columns, index=real_dist.index)"
      ],
      "execution_count": null,
      "outputs": []
    },
    {
      "cell_type": "code",
      "metadata": {
        "id": "29sgob1lUcn8"
      },
      "source": [
        "elgible_per_city = METADATA['בזב'].to_numpy()\n",
        "elgible_total = METADATA['בזב'].sum()\n",
        "kosher_total = METADATA['כשרים'].sum()"
      ],
      "execution_count": null,
      "outputs": []
    },
    {
      "cell_type": "code",
      "metadata": {
        "id": "RwYQe0Y_5n5X"
      },
      "source": [
        "predicted_dist = real_dist * elgible_per_city[:, None]"
      ],
      "execution_count": null,
      "outputs": []
    },
    {
      "cell_type": "code",
      "metadata": {
        "colab": {
          "base_uri": "https://localhost:8080/",
          "height": 450
        },
        "id": "i1AETWmNo5xc",
        "outputId": "ffc59f92-2635-45ea-a502-661365a5f174"
      },
      "source": [
        "predicted_dist"
      ],
      "execution_count": null,
      "outputs": [
        {
          "output_type": "execute_result",
          "data": {
            "text/html": [
              "<div>\n",
              "<style scoped>\n",
              "    .dataframe tbody tr th:only-of-type {\n",
              "        vertical-align: middle;\n",
              "    }\n",
              "\n",
              "    .dataframe tbody tr th {\n",
              "        vertical-align: top;\n",
              "    }\n",
              "\n",
              "    .dataframe thead th {\n",
              "        text-align: right;\n",
              "    }\n",
              "</style>\n",
              "<table border=\"1\" class=\"dataframe\">\n",
              "  <thead>\n",
              "    <tr style=\"text-align: right;\">\n",
              "      <th></th>\n",
              "      <th>אמת</th>\n",
              "      <th>ב</th>\n",
              "      <th>ג</th>\n",
              "      <th>ודעם</th>\n",
              "      <th>ט</th>\n",
              "      <th>כן</th>\n",
              "      <th>ל</th>\n",
              "      <th>מחל</th>\n",
              "      <th>מרצ</th>\n",
              "      <th>עם</th>\n",
              "      <th>פה</th>\n",
              "      <th>שס</th>\n",
              "      <th>ת</th>\n",
              "    </tr>\n",
              "    <tr>\n",
              "      <th>שם ישוב</th>\n",
              "      <th></th>\n",
              "      <th></th>\n",
              "      <th></th>\n",
              "      <th></th>\n",
              "      <th></th>\n",
              "      <th></th>\n",
              "      <th></th>\n",
              "      <th></th>\n",
              "      <th></th>\n",
              "      <th></th>\n",
              "      <th></th>\n",
              "      <th></th>\n",
              "      <th></th>\n",
              "    </tr>\n",
              "  </thead>\n",
              "  <tbody>\n",
              "    <tr>\n",
              "      <th>אבירים</th>\n",
              "      <td>69.247</td>\n",
              "      <td>0.000</td>\n",
              "      <td>0.000</td>\n",
              "      <td>4.420</td>\n",
              "      <td>2.947</td>\n",
              "      <td>23.573</td>\n",
              "      <td>2.947</td>\n",
              "      <td>7.367</td>\n",
              "      <td>45.673</td>\n",
              "      <td>0.000</td>\n",
              "      <td>39.780</td>\n",
              "      <td>1.473</td>\n",
              "      <td>11.787</td>\n",
              "    </tr>\n",
              "    <tr>\n",
              "      <th>אדירים</th>\n",
              "      <td>1.300</td>\n",
              "      <td>9.100</td>\n",
              "      <td>5.200</td>\n",
              "      <td>0.000</td>\n",
              "      <td>11.700</td>\n",
              "      <td>3.900</td>\n",
              "      <td>0.000</td>\n",
              "      <td>109.200</td>\n",
              "      <td>0.000</td>\n",
              "      <td>0.000</td>\n",
              "      <td>2.600</td>\n",
              "      <td>79.300</td>\n",
              "      <td>7.800</td>\n",
              "    </tr>\n",
              "    <tr>\n",
              "      <th>אושה</th>\n",
              "      <td>99.652</td>\n",
              "      <td>9.688</td>\n",
              "      <td>0.000</td>\n",
              "      <td>4.152</td>\n",
              "      <td>0.000</td>\n",
              "      <td>51.210</td>\n",
              "      <td>11.072</td>\n",
              "      <td>33.217</td>\n",
              "      <td>27.681</td>\n",
              "      <td>0.000</td>\n",
              "      <td>119.029</td>\n",
              "      <td>0.000</td>\n",
              "      <td>20.761</td>\n",
              "    </tr>\n",
              "    <tr>\n",
              "      <th>אחווה</th>\n",
              "      <td>17.669</td>\n",
              "      <td>5.048</td>\n",
              "      <td>0.000</td>\n",
              "      <td>0.000</td>\n",
              "      <td>5.048</td>\n",
              "      <td>45.434</td>\n",
              "      <td>3.786</td>\n",
              "      <td>34.076</td>\n",
              "      <td>12.621</td>\n",
              "      <td>0.000</td>\n",
              "      <td>46.697</td>\n",
              "      <td>2.524</td>\n",
              "      <td>10.097</td>\n",
              "    </tr>\n",
              "    <tr>\n",
              "      <th>איבים</th>\n",
              "      <td>0.000</td>\n",
              "      <td>13.800</td>\n",
              "      <td>0.000</td>\n",
              "      <td>0.000</td>\n",
              "      <td>34.500</td>\n",
              "      <td>17.250</td>\n",
              "      <td>0.000</td>\n",
              "      <td>58.650</td>\n",
              "      <td>0.000</td>\n",
              "      <td>0.000</td>\n",
              "      <td>0.000</td>\n",
              "      <td>3.450</td>\n",
              "      <td>0.000</td>\n",
              "    </tr>\n",
              "    <tr>\n",
              "      <th>...</th>\n",
              "      <td>...</td>\n",
              "      <td>...</td>\n",
              "      <td>...</td>\n",
              "      <td>...</td>\n",
              "      <td>...</td>\n",
              "      <td>...</td>\n",
              "      <td>...</td>\n",
              "      <td>...</td>\n",
              "      <td>...</td>\n",
              "      <td>...</td>\n",
              "      <td>...</td>\n",
              "      <td>...</td>\n",
              "      <td>...</td>\n",
              "    </tr>\n",
              "    <tr>\n",
              "      <th>קורנית</th>\n",
              "      <td>116.008</td>\n",
              "      <td>23.462</td>\n",
              "      <td>0.000</td>\n",
              "      <td>1.303</td>\n",
              "      <td>3.910</td>\n",
              "      <td>95.153</td>\n",
              "      <td>13.035</td>\n",
              "      <td>41.711</td>\n",
              "      <td>127.739</td>\n",
              "      <td>0.000</td>\n",
              "      <td>195.519</td>\n",
              "      <td>0.000</td>\n",
              "      <td>19.552</td>\n",
              "    </tr>\n",
              "    <tr>\n",
              "      <th>שורשים</th>\n",
              "      <td>87.517</td>\n",
              "      <td>27.714</td>\n",
              "      <td>0.000</td>\n",
              "      <td>4.376</td>\n",
              "      <td>1.459</td>\n",
              "      <td>55.428</td>\n",
              "      <td>10.210</td>\n",
              "      <td>46.676</td>\n",
              "      <td>30.631</td>\n",
              "      <td>0.000</td>\n",
              "      <td>118.148</td>\n",
              "      <td>0.000</td>\n",
              "      <td>36.466</td>\n",
              "    </tr>\n",
              "    <tr>\n",
              "      <th>שכניה</th>\n",
              "      <td>140.038</td>\n",
              "      <td>23.571</td>\n",
              "      <td>0.000</td>\n",
              "      <td>4.160</td>\n",
              "      <td>5.546</td>\n",
              "      <td>84.578</td>\n",
              "      <td>16.638</td>\n",
              "      <td>19.411</td>\n",
              "      <td>94.283</td>\n",
              "      <td>0.000</td>\n",
              "      <td>167.769</td>\n",
              "      <td>1.387</td>\n",
              "      <td>49.915</td>\n",
              "    </tr>\n",
              "    <tr>\n",
              "      <th>שער אפרים</th>\n",
              "      <td>113.395</td>\n",
              "      <td>100.949</td>\n",
              "      <td>2.766</td>\n",
              "      <td>0.000</td>\n",
              "      <td>38.720</td>\n",
              "      <td>110.629</td>\n",
              "      <td>33.189</td>\n",
              "      <td>421.773</td>\n",
              "      <td>60.846</td>\n",
              "      <td>0.000</td>\n",
              "      <td>235.087</td>\n",
              "      <td>59.463</td>\n",
              "      <td>62.229</td>\n",
              "    </tr>\n",
              "    <tr>\n",
              "      <th>מעטפות חיצוניות</th>\n",
              "      <td>0.000</td>\n",
              "      <td>0.000</td>\n",
              "      <td>0.000</td>\n",
              "      <td>0.000</td>\n",
              "      <td>0.000</td>\n",
              "      <td>0.000</td>\n",
              "      <td>0.000</td>\n",
              "      <td>0.000</td>\n",
              "      <td>0.000</td>\n",
              "      <td>0.000</td>\n",
              "      <td>0.000</td>\n",
              "      <td>0.000</td>\n",
              "      <td>0.000</td>\n",
              "    </tr>\n",
              "  </tbody>\n",
              "</table>\n",
              "<p>1215 rows × 13 columns</p>\n",
              "</div>"
            ],
            "text/plain": [
              "                    אמת       ב     ג  ודעם  ...    עם      פה     שס      ת\n",
              "שם ישוב                                      ...                            \n",
              "אבירים           69.247   0.000 0.000 4.420  ... 0.000  39.780  1.473 11.787\n",
              "אדירים            1.300   9.100 5.200 0.000  ... 0.000   2.600 79.300  7.800\n",
              "אושה             99.652   9.688 0.000 4.152  ... 0.000 119.029  0.000 20.761\n",
              "אחווה            17.669   5.048 0.000 0.000  ... 0.000  46.697  2.524 10.097\n",
              "איבים             0.000  13.800 0.000 0.000  ... 0.000   0.000  3.450  0.000\n",
              "...                 ...     ...   ...   ...  ...   ...     ...    ...    ...\n",
              "קורנית          116.008  23.462 0.000 1.303  ... 0.000 195.519  0.000 19.552\n",
              "שורשים           87.517  27.714 0.000 4.376  ... 0.000 118.148  0.000 36.466\n",
              "שכניה           140.038  23.571 0.000 4.160  ... 0.000 167.769  1.387 49.915\n",
              "שער אפרים       113.395 100.949 2.766 0.000  ... 0.000 235.087 59.463 62.229\n",
              "מעטפות חיצוניות   0.000   0.000 0.000 0.000  ... 0.000   0.000  0.000  0.000\n",
              "\n",
              "[1215 rows x 13 columns]"
            ]
          },
          "metadata": {},
          "execution_count": 305
        }
      ]
    },
    {
      "cell_type": "code",
      "metadata": {
        "id": "ZmrDBZqyVLzH"
      },
      "source": [
        "dist_estimator = (predicted_dist.sum(axis=0)/elgible_total)[size_order]\n",
        "dist_observed = (df[inKnessetParties].sum(axis=0)/kosher_total)[size_order]"
      ],
      "execution_count": null,
      "outputs": []
    },
    {
      "cell_type": "code",
      "metadata": {
        "id": "XD76usbJ3nTQ"
      },
      "source": [
        "def barplot(obs, est, title):\n",
        "  width = 0.3  \n",
        "  n = len(obs)\n",
        "  names = est.keys()\n",
        "  rev_names = [parties_dict[name][::-1] for name in list(names)]\n",
        "  fig, ax = plt.subplots()\n",
        "  fig.set_size_inches(17, 12)\n",
        "  ax.set_facecolor('whitesmoke')\n",
        "  ax.bar(np.arange(n), obs.to_list(), width, color='skyblue', \n",
        "        label=\"Observed Distribution In Election\")\n",
        "  ax.bar(np.arange(n) + width , est.to_list(), width, color='lightsalmon', \n",
        "        label='Estimated Distribution In Election')\n",
        "  ax.set_ylabel('Votes Share', fontsize=14)\n",
        "  ax.set_xlabel('Parties Names', fontsize=14)\n",
        "  ax.set_title(title, fontsize=16)\n",
        "  ax.set_xticks(np.arange(n))\n",
        "  ax.set_xticklabels(rev_names, rotation=45)\n",
        "  ax.legend()\n",
        "  plt.show()"
      ],
      "execution_count": null,
      "outputs": []
    },
    {
      "cell_type": "code",
      "metadata": {
        "colab": {
          "base_uri": "https://localhost:8080/",
          "height": 790
        },
        "id": "BJmydXCC3s7E",
        "outputId": "b96d8f3a-c3b7-4a55-b7c7-10be32393710"
      },
      "source": [
        "barplot(dist_observed, dist_estimator, 'Observed vs Estimated Votes Share Per Party - Grouped by cities ')"
      ],
      "execution_count": null,
      "outputs": [
        {
          "output_type": "display_data",
          "data": {
            "image/png": "[encoded data removed]",
            "text/plain": [
              "<Figure size 1224x864 with 1 Axes>"
            ]
          },
          "metadata": {
            "needs_background": "light"
          }
        }
      ]
    },
    {
      "cell_type": "markdown",
      "metadata": {
        "id": "w3-zTHjntCEE"
      },
      "source": [
        "Lets repeat the same process with votes per ballots data."
      ]
    },
    {
      "cell_type": "code",
      "metadata": {
        "colab": {
          "base_uri": "https://localhost:8080/",
          "height": 419
        },
        "id": "bv_JvwBHzpD7",
        "outputId": "fe84903d-cf84-4a65-d21d-9524ce46b3ca"
      },
      "source": [
        "votes_per_ballot_observed = votes_per_ballot.reset_index()[inKnessetParties]\n",
        "votes_per_ballot_observed"
      ],
      "execution_count": null,
      "outputs": [
        {
          "output_type": "execute_result",
          "data": {
            "text/html": [
              "<div>\n",
              "<style scoped>\n",
              "    .dataframe tbody tr th:only-of-type {\n",
              "        vertical-align: middle;\n",
              "    }\n",
              "\n",
              "    .dataframe tbody tr th {\n",
              "        vertical-align: top;\n",
              "    }\n",
              "\n",
              "    .dataframe thead th {\n",
              "        text-align: right;\n",
              "    }\n",
              "</style>\n",
              "<table border=\"1\" class=\"dataframe\">\n",
              "  <thead>\n",
              "    <tr style=\"text-align: right;\">\n",
              "      <th></th>\n",
              "      <th>אמת</th>\n",
              "      <th>ב</th>\n",
              "      <th>ג</th>\n",
              "      <th>ודעם</th>\n",
              "      <th>ט</th>\n",
              "      <th>כן</th>\n",
              "      <th>ל</th>\n",
              "      <th>מחל</th>\n",
              "      <th>מרצ</th>\n",
              "      <th>עם</th>\n",
              "      <th>פה</th>\n",
              "      <th>שס</th>\n",
              "      <th>ת</th>\n",
              "    </tr>\n",
              "  </thead>\n",
              "  <tbody>\n",
              "    <tr>\n",
              "      <th>0</th>\n",
              "      <td>47</td>\n",
              "      <td>0</td>\n",
              "      <td>0</td>\n",
              "      <td>3</td>\n",
              "      <td>2</td>\n",
              "      <td>16</td>\n",
              "      <td>2</td>\n",
              "      <td>5</td>\n",
              "      <td>31</td>\n",
              "      <td>0</td>\n",
              "      <td>27</td>\n",
              "      <td>1</td>\n",
              "      <td>8</td>\n",
              "    </tr>\n",
              "    <tr>\n",
              "      <th>1</th>\n",
              "      <td>1</td>\n",
              "      <td>7</td>\n",
              "      <td>4</td>\n",
              "      <td>0</td>\n",
              "      <td>9</td>\n",
              "      <td>3</td>\n",
              "      <td>0</td>\n",
              "      <td>84</td>\n",
              "      <td>0</td>\n",
              "      <td>0</td>\n",
              "      <td>2</td>\n",
              "      <td>61</td>\n",
              "      <td>6</td>\n",
              "    </tr>\n",
              "    <tr>\n",
              "      <th>2</th>\n",
              "      <td>72</td>\n",
              "      <td>7</td>\n",
              "      <td>0</td>\n",
              "      <td>3</td>\n",
              "      <td>0</td>\n",
              "      <td>37</td>\n",
              "      <td>8</td>\n",
              "      <td>24</td>\n",
              "      <td>20</td>\n",
              "      <td>0</td>\n",
              "      <td>86</td>\n",
              "      <td>0</td>\n",
              "      <td>15</td>\n",
              "    </tr>\n",
              "    <tr>\n",
              "      <th>3</th>\n",
              "      <td>14</td>\n",
              "      <td>4</td>\n",
              "      <td>0</td>\n",
              "      <td>0</td>\n",
              "      <td>4</td>\n",
              "      <td>36</td>\n",
              "      <td>3</td>\n",
              "      <td>27</td>\n",
              "      <td>10</td>\n",
              "      <td>0</td>\n",
              "      <td>37</td>\n",
              "      <td>2</td>\n",
              "      <td>8</td>\n",
              "    </tr>\n",
              "    <tr>\n",
              "      <th>4</th>\n",
              "      <td>0</td>\n",
              "      <td>4</td>\n",
              "      <td>0</td>\n",
              "      <td>0</td>\n",
              "      <td>10</td>\n",
              "      <td>5</td>\n",
              "      <td>0</td>\n",
              "      <td>17</td>\n",
              "      <td>0</td>\n",
              "      <td>0</td>\n",
              "      <td>0</td>\n",
              "      <td>1</td>\n",
              "      <td>0</td>\n",
              "    </tr>\n",
              "    <tr>\n",
              "      <th>...</th>\n",
              "      <td>...</td>\n",
              "      <td>...</td>\n",
              "      <td>...</td>\n",
              "      <td>...</td>\n",
              "      <td>...</td>\n",
              "      <td>...</td>\n",
              "      <td>...</td>\n",
              "      <td>...</td>\n",
              "      <td>...</td>\n",
              "      <td>...</td>\n",
              "      <td>...</td>\n",
              "      <td>...</td>\n",
              "      <td>...</td>\n",
              "    </tr>\n",
              "    <tr>\n",
              "      <th>12921</th>\n",
              "      <td>32</td>\n",
              "      <td>81</td>\n",
              "      <td>2</td>\n",
              "      <td>7</td>\n",
              "      <td>22</td>\n",
              "      <td>30</td>\n",
              "      <td>47</td>\n",
              "      <td>141</td>\n",
              "      <td>22</td>\n",
              "      <td>4</td>\n",
              "      <td>93</td>\n",
              "      <td>16</td>\n",
              "      <td>39</td>\n",
              "    </tr>\n",
              "    <tr>\n",
              "      <th>12922</th>\n",
              "      <td>31</td>\n",
              "      <td>73</td>\n",
              "      <td>2</td>\n",
              "      <td>5</td>\n",
              "      <td>22</td>\n",
              "      <td>27</td>\n",
              "      <td>36</td>\n",
              "      <td>200</td>\n",
              "      <td>22</td>\n",
              "      <td>1</td>\n",
              "      <td>76</td>\n",
              "      <td>11</td>\n",
              "      <td>40</td>\n",
              "    </tr>\n",
              "    <tr>\n",
              "      <th>12923</th>\n",
              "      <td>43</td>\n",
              "      <td>50</td>\n",
              "      <td>8</td>\n",
              "      <td>5</td>\n",
              "      <td>22</td>\n",
              "      <td>27</td>\n",
              "      <td>74</td>\n",
              "      <td>123</td>\n",
              "      <td>19</td>\n",
              "      <td>0</td>\n",
              "      <td>96</td>\n",
              "      <td>12</td>\n",
              "      <td>47</td>\n",
              "    </tr>\n",
              "    <tr>\n",
              "      <th>12924</th>\n",
              "      <td>42</td>\n",
              "      <td>55</td>\n",
              "      <td>3</td>\n",
              "      <td>4</td>\n",
              "      <td>23</td>\n",
              "      <td>33</td>\n",
              "      <td>66</td>\n",
              "      <td>155</td>\n",
              "      <td>20</td>\n",
              "      <td>1</td>\n",
              "      <td>84</td>\n",
              "      <td>11</td>\n",
              "      <td>33</td>\n",
              "    </tr>\n",
              "    <tr>\n",
              "      <th>12925</th>\n",
              "      <td>29</td>\n",
              "      <td>50</td>\n",
              "      <td>43</td>\n",
              "      <td>23</td>\n",
              "      <td>34</td>\n",
              "      <td>19</td>\n",
              "      <td>37</td>\n",
              "      <td>164</td>\n",
              "      <td>16</td>\n",
              "      <td>7</td>\n",
              "      <td>43</td>\n",
              "      <td>48</td>\n",
              "      <td>27</td>\n",
              "    </tr>\n",
              "  </tbody>\n",
              "</table>\n",
              "<p>12926 rows × 13 columns</p>\n",
              "</div>"
            ],
            "text/plain": [
              "       אמת   ב   ג  ודעם   ט  כן   ל  מחל  מרצ  עם  פה  שס   ת\n",
              "0       47   0   0     3   2  16   2    5   31   0  27   1   8\n",
              "1        1   7   4     0   9   3   0   84    0   0   2  61   6\n",
              "2       72   7   0     3   0  37   8   24   20   0  86   0  15\n",
              "3       14   4   0     0   4  36   3   27   10   0  37   2   8\n",
              "4        0   4   0     0  10   5   0   17    0   0   0   1   0\n",
              "...    ...  ..  ..   ...  ..  ..  ..  ...  ...  ..  ..  ..  ..\n",
              "12921   32  81   2     7  22  30  47  141   22   4  93  16  39\n",
              "12922   31  73   2     5  22  27  36  200   22   1  76  11  40\n",
              "12923   43  50   8     5  22  27  74  123   19   0  96  12  47\n",
              "12924   42  55   3     4  23  33  66  155   20   1  84  11  33\n",
              "12925   29  50  43    23  34  19  37  164   16   7  43  48  27\n",
              "\n",
              "[12926 rows x 13 columns]"
            ]
          },
          "metadata": {},
          "execution_count": 327
        }
      ]
    },
    {
      "cell_type": "code",
      "metadata": {
        "id": "GJJ1SdGzzfIm"
      },
      "source": [
        "kosher_per_ballot = votes_per_ballot.reset_index()['כשרים'].to_numpy()"
      ],
      "execution_count": null,
      "outputs": []
    },
    {
      "cell_type": "code",
      "metadata": {
        "id": "rq_UIHAsxcd9"
      },
      "source": [
        "eligble_per_ballot = votes_per_ballot.reset_index()['בזב'].to_numpy()"
      ],
      "execution_count": null,
      "outputs": []
    },
    {
      "cell_type": "code",
      "metadata": {
        "id": "14sE8tz80ayn"
      },
      "source": [
        "share_per_ballot_observed = votes_per_ballot_observed/ kosher_per_ballot[:, None]\n",
        "votes_per_ballot_estimated = (share_per_ballot_observed * eligble_per_ballot[:, None])"
      ],
      "execution_count": null,
      "outputs": []
    },
    {
      "cell_type": "code",
      "metadata": {
        "id": "tKvs1gry2Cik"
      },
      "source": [
        "dist_est_from_ballot = (votes_per_ballot_estimated.sum(axis=0)/elgible_total)[size_order]\n",
        "dist_obs_from_ballot = (votes_per_ballot_observed.sum(axis=0)/kosher_total)[size_order]"
      ],
      "execution_count": null,
      "outputs": []
    },
    {
      "cell_type": "code",
      "metadata": {
        "colab": {
          "base_uri": "https://localhost:8080/",
          "height": 790
        },
        "id": "VfA7H5lp25j_",
        "outputId": "0314ae9f-91cf-4a74-96f3-8725b1286c78"
      },
      "source": [
        "barplot(dist_obs_from_ballot, dist_est_from_ballot, 'Observed vs Estimated Votes Share Per Party - Grouped by ballots')"
      ],
      "execution_count": null,
      "outputs": [
        {
          "output_type": "display_data",
          "data": {
            "image/png": "[encoded data removed]",
            "text/plain": [
              "<Figure size 1224x864 with 1 Axes>"
            ]
          },
          "metadata": {
            "needs_background": "light"
          }
        }
      ]
    },
    {
      "cell_type": "code",
      "metadata": {
        "id": "KDyr-4wd4LYp"
      },
      "source": [
        "We can see "
      ],
      "execution_count": null,
      "outputs": []
    }
  ]
}